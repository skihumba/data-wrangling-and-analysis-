{
 "cells": [
  {
   "cell_type": "markdown",
   "metadata": {},
   "source": [
    "# Insights and Visualizations from wrangling of the [WeRateDogs](https://twitter.com/dog_rates) Twitter Data \n",
    "\n",
    "\n",
    "![WeRateDogs](./images/insights.png)"
   ]
  },
  {
   "cell_type": "markdown",
   "metadata": {},
   "source": [
    "## Insights"
   ]
  },
  {
   "cell_type": "markdown",
   "metadata": {},
   "source": [
    "After wrangling of the WeRateDogs twitter data, the following are some of the insights that were identified."
   ]
  },
  {
   "cell_type": "markdown",
   "metadata": {},
   "source": [
    "#### 1. Most common dog names "
   ]
  },
  {
   "cell_type": "markdown",
   "metadata": {},
   "source": [
    "The most common dog names identified in the twitter data were  `Charlie`, `Oliver`, `Cooper`, followed by `Lucky` and `Tucker`. It was interesting to note from the analysis that there was an equal number of dogs named Charlie, Oliver and Cooper. \n",
    "\n",
    "```Python \n",
    "Cooper     10\n",
    "Charlie    10\n",
    "Oliver     10\n",
    "Lucy        9\n",
    "Tucker      9\n",
    "```"
   ]
  },
  {
   "cell_type": "markdown",
   "metadata": {},
   "source": [
    "<div><img src=\"https://pbs.twimg.com/media/C09p5dJWIAE5qKL.jpg\" width=\"250\" height=\"250\" align=\"center\"></div>"
   ]
  },
  {
   "cell_type": "markdown",
   "metadata": {},
   "source": [
    "#### 2. Most common dog stage"
   ]
  },
  {
   "cell_type": "markdown",
   "metadata": {},
   "source": [
    "From the analysis, the most common dog stage was `pupper` with 222 followed by `doggo` with 62. There were tweets with multiple dog stagees in the data as well.\n",
    "\n",
    "<div><img src=\"https://pbs.twimg.com/media/C-3wvtxXcAUTuBE.jpg\" width=\"150\" height=\"250\" align=\"right\"></div>\n",
    "\n",
    "```Python\n",
    "pupper           202\n",
    "doggo             62\n",
    "puppo             22\n",
    "pupper,doggo       9\n",
    "floofer            7\n",
    "puppo,doggo        1\n",
    "floofer,doggo      1\n",
    "```"
   ]
  },
  {
   "cell_type": "markdown",
   "metadata": {},
   "source": [
    "#### 3. Number of dogs with the highest rating "
   ]
  },
  {
   "cell_type": "markdown",
   "metadata": {},
   "source": [
    "The highest dog rating identified in the dataset was `14` which is consistent with the [rating system](https://15outof10.org/our-story/#:~:text=the%2015/10%20Foundation%2C%20named%20for%20the%20highest%20rating%20any%20dog%20has%20ever%20received%20on%20WeRateDogs). Only `35` dogs had attained the highest rating of 15\n",
    "\n",
    "\n",
    "\n",
    "<div><img src=\"https://pbs.twimg.com/media/C_pGRInUwAAmTY_.jpg\" width=\"250\" height=\"250\" align=\"center\"></div>"
   ]
  },
  {
   "cell_type": "markdown",
   "metadata": {},
   "source": [
    "#### 4. stage of dog with the highest rating"
   ]
  },
  {
   "cell_type": "markdown",
   "metadata": {},
   "source": [
    " - out of the 35 dogs with highest ratings, 20 of them do not have a dog stage. 7 of them are `doggos`, 7 are `puppers` while only 1 is a `puppo`\n",
    " \n",
    "```Python\n",
    "doggo     7\n",
    "pupper    7\n",
    "puppo     1\n",
    "```"
   ]
  },
  {
   "cell_type": "markdown",
   "metadata": {},
   "source": [
    "#### 5. highest retweet count for a dog"
   ]
  },
  {
   "cell_type": "markdown",
   "metadata": {},
   "source": [
    "- As at the time of analysis, the higest retweet count fro a dog was `70,786`\n",
    "\n",
    "\n",
    "\n",
    "<div><img src=\"https://pbs.twimg.com/media/CwWVe_3WEAAHAvx.jpg\" width=\"250\" height=\"250\" align=\"right\"></div>"
   ]
  },
  {
   "cell_type": "markdown",
   "metadata": {},
   "source": [
    "## Visualizations"
   ]
  },
  {
   "cell_type": "markdown",
   "metadata": {},
   "source": [
    "The following are some of the visuallizations derrived from the wrangling of the data"
   ]
  },
  {
   "cell_type": "markdown",
   "metadata": {},
   "source": [
    "\n",
    "#### 1. Visualization that shows the distibution of the dog ratings in the dataset"
   ]
  },
  {
   "cell_type": "markdown",
   "metadata": {},
   "source": [
    "![WeRateDogs](./images/dog_rating_viz.PNG)"
   ]
  },
  {
   "cell_type": "markdown",
   "metadata": {},
   "source": [
    "- The above visualizaton shows the diatribution of the ratings that the dogs in the dataset received. From the visualization, the most common rating was `12` followed by `10` and `11` with `0` being the least common rating."
   ]
  },
  {
   "cell_type": "markdown",
   "metadata": {},
   "source": [
    "#### 2. Visualization that shows the distibution of dog stages in the dataset"
   ]
  },
  {
   "cell_type": "markdown",
   "metadata": {},
   "source": [
    "![WeRateDogs](./images/dog_stage_viz2.PNG)"
   ]
  },
  {
   "cell_type": "markdown",
   "metadata": {},
   "source": [
    "- The visualization above showsthe distribution of dogs by their stages. Most of the dogs were in the `pupper` stage followed by `doggo` and `puppo`. \n",
    "\n",
    "- There were several tweets in the dataset with miultiple dog stages identified such as floofer & doggo, puppo & doggo and pupper & doggo\n",
    "\n",
    "<div><img src=\"https://i0.wp.com/15outof10.org/wp-content/uploads/2022/04/IMG_4732.jpeg?fit=2376%2C2376&ssl=1\" width=\"350\" height=\"250\" align=\"centre\"></div>"
   ]
  },
  {
   "cell_type": "code",
   "execution_count": 1,
   "metadata": {},
   "outputs": [
    {
     "data": {
      "text/plain": [
       "0"
      ]
     },
     "execution_count": 1,
     "metadata": {},
     "output_type": "execute_result"
    }
   ],
   "source": [
    "from subprocess import call\n",
    "call(['python', '-m', 'nbconvert', 'act_report.ipynb'])"
   ]
  }
 ],
 "metadata": {
  "kernelspec": {
   "display_name": "Python 3",
   "language": "python",
   "name": "python3"
  },
  "language_info": {
   "codemirror_mode": {
    "name": "ipython",
    "version": 3
   },
   "file_extension": ".py",
   "mimetype": "text/x-python",
   "name": "python",
   "nbconvert_exporter": "python",
   "pygments_lexer": "ipython3",
   "version": "3.6.3"
  }
 },
 "nbformat": 4,
 "nbformat_minor": 2
}
